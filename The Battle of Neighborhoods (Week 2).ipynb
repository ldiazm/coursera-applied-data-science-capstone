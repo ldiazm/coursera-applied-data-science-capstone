{
    "nbformat_minor": 1, 
    "cells": [
        {
            "source": "# Battle of the Neighborhoods ( Toronto )", 
            "cell_type": "markdown", 
            "metadata": {
                "collapsed": true
            }
        }, 
        {
            "source": "## Business problem statement:\nSince Canada has become on the spotlight of young professionals during the last years because of the benefits offered to skilled professionals, my wife and I decided to explore the idea of moving to Toronto looking for quitter life and eventually establish a family, so far we are in the process of paperwork and being optimistic we should be travelling in a couple of months.\n\nHowever the consequences of a big decision like this involves many aspects to cover, so, with the help of this course, I am going to tackle a problem that come to my mind recently:\n\n**How do we choose the best neighborhood to initially move?**\n\nGiven that we do not have previous knowledge of the City, by \u201cinitially\u201d I mean that our plan is to rent a place for a couple of months, then eventually move to an area near to our jobs and study centers.\n\nIn order to narrow the scope, the neighborhood should meet the following requirements:\n\n* Easy access to public transportation\n* Lot of restaurants, since we are not keen on cooking\n* Low Crime rates \n* Affordable Rent Prices \n* Things to do in the cornerstones\n* Some night life should be welcome\n\n", 
            "cell_type": "markdown", 
            "metadata": {
                "collapsed": true
            }
        }, 
        {
            "source": "## Required data", 
            "cell_type": "markdown", 
            "metadata": {
                "collapsed": true
            }
        }, 
        {
            "source": "1.\tNeighborhoods in Toronto - https://en.wikipedia.org/wiki/List_of_postal_codes_of_Canada:_M\n2.\tFoursquare data\n3.\tNeighborhoods Crime data in Toronto - http://data.torontopolice.on.ca/datasets/af500b5abb7240399853b35a2362d0c0_0?geometry=-79.812%2C43.632%2C-78.944%2C43.805&selectedAttribute=Total_Rate \n4.\tAirBnb Prices prices - http://insideairbnb.com/get-the-data.html \n", 
            "cell_type": "markdown", 
            "metadata": {
                "collapsed": true
            }
        }, 
        {
            "source": "## Machine Learning approach", 
            "cell_type": "markdown", 
            "metadata": {
                "collapsed": true
            }
        }, 
        {
            "source": "Overall, I will use the data available in the sources to perform a clustering based analysis to find the group that better meet the initial requirements.\n\nIt is expected to find one or more clusters with neighborhoods with crime rates under the average, rent prices around the average, with lots of restaurants and with bus/train stations.\n\nFinally, once plotted in a map, it should be easier to decide which cluster is near to the university we are going to study.\n", 
            "cell_type": "markdown", 
            "metadata": {
                "collapsed": true
            }
        }, 
        {
            "source": "## Results", 
            "cell_type": "markdown", 
            "metadata": {
                "collapsed": true
            }
        }, 
        {
            "source": "## Summary and Conclusions", 
            "cell_type": "markdown", 
            "metadata": {
                "collapsed": true
            }
        }, 
        {
            "execution_count": 4, 
            "cell_type": "code", 
            "metadata": {}, 
            "outputs": [
                {
                    "output_type": "stream", 
                    "name": "stdout", 
                    "text": "Collecting geocoder\n  Downloading https://files.pythonhosted.org/packages/4f/6b/13166c909ad2f2d76b929a4227c952630ebaf0d729f6317eb09cbceccbab/geocoder-1.38.1-py2.py3-none-any.whl (98kB)\n\u001b[K    100% |\u2588\u2588\u2588\u2588\u2588\u2588\u2588\u2588\u2588\u2588\u2588\u2588\u2588\u2588\u2588\u2588\u2588\u2588\u2588\u2588\u2588\u2588\u2588\u2588\u2588\u2588\u2588\u2588\u2588\u2588\u2588\u2588| 102kB 7.1MB/s ta 0:00:01\n\u001b[?25hCollecting ratelim (from geocoder)\n  Downloading https://files.pythonhosted.org/packages/f2/98/7e6d147fd16a10a5f821db6e25f192265d6ecca3d82957a4fdd592cad49c/ratelim-0.1.6-py2.py3-none-any.whl\nRequirement not upgraded as not directly required: future in /opt/conda/envs/DSX-Python35/lib/python3.5/site-packages (from geocoder)\nRequirement not upgraded as not directly required: click in /opt/conda/envs/DSX-Python35/lib/python3.5/site-packages (from geocoder)\nRequirement not upgraded as not directly required: requests in /opt/conda/envs/DSX-Python35/lib/python3.5/site-packages (from geocoder)\nRequirement not upgraded as not directly required: six in /opt/conda/envs/DSX-Python35/lib/python3.5/site-packages (from geocoder)\nRequirement not upgraded as not directly required: decorator in /opt/conda/envs/DSX-Python35/lib/python3.5/site-packages (from ratelim->geocoder)\nRequirement not upgraded as not directly required: chardet<3.1.0,>=3.0.2 in /opt/conda/envs/DSX-Python35/lib/python3.5/site-packages (from requests->geocoder)\nRequirement not upgraded as not directly required: idna<2.7,>=2.5 in /opt/conda/envs/DSX-Python35/lib/python3.5/site-packages (from requests->geocoder)\nRequirement not upgraded as not directly required: urllib3<1.23,>=1.21.1 in /opt/conda/envs/DSX-Python35/lib/python3.5/site-packages (from requests->geocoder)\nRequirement not upgraded as not directly required: certifi>=2017.4.17 in /opt/conda/envs/DSX-Python35/lib/python3.5/site-packages (from requests->geocoder)\nInstalling collected packages: ratelim, geocoder\nSuccessfully installed geocoder-1.38.1 ratelim-0.1.6\n"
                }
            ], 
            "source": "!pip install geocoder"
        }, 
        {
            "execution_count": 5, 
            "cell_type": "code", 
            "metadata": {}, 
            "outputs": [], 
            "source": "import geocoder # import geocoder"
        }, 
        {
            "execution_count": null, 
            "cell_type": "code", 
            "metadata": {}, 
            "outputs": [], 
            "source": "# initialize your variable to None\nlat_lng_coords = None\npostal_code = 'M5P'\n\n# loop until you get the coordinates\nwhile(lat_lng_coords is None):\n  g = geocoder.google('{}, Toronto, Ontario'.format(postal_code))\n  lat_lng_coords = g.latlng\n\nlatitude = lat_lng_coords[0]\nlongitude = lat_lng_coords[1]"
        }, 
        {
            "execution_count": 40, 
            "cell_type": "code", 
            "metadata": {}, 
            "outputs": [
                {
                    "output_type": "stream", 
                    "name": "stdout", 
                    "text": "False\nNone\nNone\nOVER_QUERY_LIMIT\n"
                }
            ], 
            "source": "import geocoder # import geocoder\n# initialize your variable to None\n# lat_lng_coords = None\n\n#search_string = '{}, Toronto, Ontario'.format(postal_code)\nsearch_string = \"453 Booth Street, Ottawa ON\"\ng = geocoder.google(search_string)\n#lat_lng_coords = g.latlng\nprint(g.ok)\nprint(g.json)\n\n#latitude = lat_lng_coords[0]\n#longitude = lat_lng_coords[1]\nprint(g.api_status )\nprint(g.error)"
        }, 
        {
            "execution_count": 35, 
            "cell_type": "code", 
            "metadata": {}, 
            "outputs": [
                {
                    "execution_count": 35, 
                    "metadata": {}, 
                    "data": {
                        "text/plain": "True"
                    }, 
                    "output_type": "execute_result"
                }
            ], 
            "source": "g.latlng is None"
        }, 
        {
            "execution_count": 9, 
            "cell_type": "code", 
            "metadata": {}, 
            "outputs": [
                {
                    "output_type": "stream", 
                    "name": "stdout", 
                    "text": "{'type': 'FeatureCollection', 'features': []} None None None\n"
                }
            ], 
            "source": "import geocoder\ng = geocoder.google('Mountain View, CA')\nprint(g.geojson,g.json,g.wkt,g.osm)\n"
        }, 
        {
            "execution_count": null, 
            "cell_type": "code", 
            "metadata": {}, 
            "outputs": [], 
            "source": ""
        }, 
        {
            "execution_count": 11, 
            "cell_type": "code", 
            "metadata": {}, 
            "outputs": [
                {
                    "output_type": "stream", 
                    "name": "stdout", 
                    "text": "None\nNone\nNone\nNone\n"
                }
            ], 
            "source": "g = geocoder.google(\"453 Booth Street, Ottawa ON\")\nprint(g.housenumber)\nprint(g.postal)\nprint(g.street)\nprint(g.street_long)"
        }, 
        {
            "execution_count": 41, 
            "cell_type": "code", 
            "metadata": {}, 
            "outputs": [], 
            "source": "import requests"
        }, 
        {
            "execution_count": 42, 
            "cell_type": "code", 
            "metadata": {}, 
            "outputs": [
                {
                    "ename": "IndexError", 
                    "evalue": "list index out of range", 
                    "traceback": [
                        "\u001b[0;31m---------------------------------------------------------------------------\u001b[0m", 
                        "\u001b[0;31mIndexError\u001b[0m                                Traceback (most recent call last)", 
                        "\u001b[0;32m<ipython-input-42-e925cb916105>\u001b[0m in \u001b[0;36m<module>\u001b[0;34m()\u001b[0m\n\u001b[1;32m      3\u001b[0m \u001b[0mr\u001b[0m \u001b[0;34m=\u001b[0m \u001b[0mrequests\u001b[0m\u001b[0;34m.\u001b[0m\u001b[0mget\u001b[0m\u001b[0;34m(\u001b[0m\u001b[0murl\u001b[0m\u001b[0;34m,\u001b[0m \u001b[0mparams\u001b[0m\u001b[0;34m=\u001b[0m\u001b[0mparams\u001b[0m\u001b[0;34m)\u001b[0m\u001b[0;34m\u001b[0m\u001b[0m\n\u001b[1;32m      4\u001b[0m \u001b[0mresults\u001b[0m \u001b[0;34m=\u001b[0m \u001b[0mr\u001b[0m\u001b[0;34m.\u001b[0m\u001b[0mjson\u001b[0m\u001b[0;34m(\u001b[0m\u001b[0;34m)\u001b[0m\u001b[0;34m[\u001b[0m\u001b[0;34m'results'\u001b[0m\u001b[0;34m]\u001b[0m\u001b[0;34m\u001b[0m\u001b[0m\n\u001b[0;32m----> 5\u001b[0;31m \u001b[0mlocation\u001b[0m \u001b[0;34m=\u001b[0m \u001b[0mresults\u001b[0m\u001b[0;34m[\u001b[0m\u001b[0;36m0\u001b[0m\u001b[0;34m]\u001b[0m\u001b[0;34m[\u001b[0m\u001b[0;34m'geometry'\u001b[0m\u001b[0;34m]\u001b[0m\u001b[0;34m[\u001b[0m\u001b[0;34m'location'\u001b[0m\u001b[0;34m]\u001b[0m\u001b[0;34m\u001b[0m\u001b[0m\n\u001b[0m\u001b[1;32m      6\u001b[0m \u001b[0mlocation\u001b[0m\u001b[0;34m[\u001b[0m\u001b[0;34m'lat'\u001b[0m\u001b[0;34m]\u001b[0m\u001b[0;34m,\u001b[0m \u001b[0mlocation\u001b[0m\u001b[0;34m[\u001b[0m\u001b[0;34m'lng'\u001b[0m\u001b[0;34m]\u001b[0m\u001b[0;34m\u001b[0m\u001b[0m\n", 
                        "\u001b[0;31mIndexError\u001b[0m: list index out of range"
                    ], 
                    "output_type": "error"
                }
            ], 
            "source": "url = 'https://maps.googleapis.com/maps/api/geocode/json'\nparams = {'sensor': 'false', 'address': 'Mountain View, CA'}\nr = requests.get(url, params=params)\nresults = r.json()['results']\nlocation = results[0]['geometry']['location']\nlocation['lat'], location['lng']"
        }, 
        {
            "execution_count": 45, 
            "cell_type": "code", 
            "metadata": {}, 
            "outputs": [
                {
                    "execution_count": 45, 
                    "metadata": {}, 
                    "data": {
                        "text/plain": "{'error_message': 'Keyless access to Google Maps Platform is deprecated. Please use an API key with all your API calls to avoid service interruption. For further details please refer to http://g.co/dev/maps-no-account',\n 'results': [],\n 'status': 'OVER_QUERY_LIMIT'}"
                    }, 
                    "output_type": "execute_result"
                }
            ], 
            "source": "r.json()"
        }, 
        {
            "execution_count": 47, 
            "cell_type": "code", 
            "metadata": {}, 
            "outputs": [], 
            "source": "#!conda install -c conda-forge geopy --yes # uncomment this line if you haven't completed the Foursquare API lab\nfrom geopy.geocoders import Nominatim # convert an address into latitude and longitude values"
        }, 
        {
            "execution_count": 51, 
            "cell_type": "code", 
            "metadata": {}, 
            "outputs": [
                {
                    "output_type": "stream", 
                    "name": "stdout", 
                    "text": "The geograpical coordinate of Forest Hill South,Toronto, ON are 43.6935586, -79.4139023.\n"
                }
            ], 
            "source": "#Use geopy library to get the latitude and longitude values of New York City.\naddress = 'Forest Hill South,Toronto, ON'\n\ngeolocator = Nominatim()\nlocation = geolocator.geocode(address)\nlatitude = location.latitude\nlongitude = location.longitude\nprint('The geograpical coordinate of {} are {}, {}.'.format(address, latitude, longitude))"
        }, 
        {
            "execution_count": 53, 
            "cell_type": "code", 
            "metadata": {}, 
            "outputs": [
                {
                    "execution_count": 53, 
                    "metadata": {}, 
                    "data": {
                        "text/plain": "Location(Forest Hill, Old Toronto, Toronto, Ontario, M5P2W8, Canada, (43.6935586, -79.4139023, 0.0))"
                    }, 
                    "output_type": "execute_result"
                }
            ], 
            "source": "location"
        }, 
        {
            "execution_count": 78, 
            "cell_type": "code", 
            "metadata": {}, 
            "outputs": [], 
            "source": "def getLocationByAddress(address):\n    geolocator = Nominatim()\n    location = geolocator.geocode(address)\n    return(location)\n\ndef getLatituteByLocation(location):\n    if location is None:\n        return None\n    return(location.latitude)\n\ndef getLongitudeByLocation(location):\n    if location is None:\n        return None\n    return(location.longitude)"
        }, 
        {
            "execution_count": 56, 
            "cell_type": "code", 
            "metadata": {}, 
            "outputs": [], 
            "source": "location_result = getLocationByAddress('Forest Hill South,Toronto, ON')"
        }, 
        {
            "execution_count": 59, 
            "cell_type": "code", 
            "metadata": {}, 
            "outputs": [
                {
                    "output_type": "stream", 
                    "name": "stdout", 
                    "text": "43.6935586 -79.4139023\n"
                }
            ], 
            "source": "print(location_result.latitude,location_result.longitude)"
        }, 
        {
            "execution_count": 79, 
            "cell_type": "code", 
            "metadata": {}, 
            "outputs": [
                {
                    "output_type": "stream", 
                    "name": "stdout", 
                    "text": "43.6935586 -79.4139023\n"
                }
            ], 
            "source": "print( getLatituteByLocation(location_result) , getLongitudeByLocation(location_result) )"
        }, 
        {
            "execution_count": 60, 
            "cell_type": "code", 
            "metadata": {}, 
            "outputs": [
                {
                    "execution_count": 60, 
                    "metadata": {}, 
                    "data": {
                        "text/html": "<div>\n<style scoped>\n    .dataframe tbody tr th:only-of-type {\n        vertical-align: middle;\n    }\n\n    .dataframe tbody tr th {\n        vertical-align: top;\n    }\n\n    .dataframe thead th {\n        text-align: right;\n    }\n</style>\n<table border=\"1\" class=\"dataframe\">\n  <thead>\n    <tr style=\"text-align: right;\">\n      <th></th>\n      <th>Neighbourhood_Formatted</th>\n      <th>Total_Rate</th>\n    </tr>\n  </thead>\n  <tbody>\n    <tr>\n      <th>0</th>\n      <td>Mount Pleasant East</td>\n      <td>226.845357</td>\n    </tr>\n    <tr>\n      <th>1</th>\n      <td>Markland Wood</td>\n      <td>337.818494</td>\n    </tr>\n    <tr>\n      <th>2</th>\n      <td>Yonge-Eglinton</td>\n      <td>412.358054</td>\n    </tr>\n    <tr>\n      <th>3</th>\n      <td>Pleasant View</td>\n      <td>435.878584</td>\n    </tr>\n    <tr>\n      <th>4</th>\n      <td>Caledonia-Fairbank</td>\n      <td>438.229039</td>\n    </tr>\n  </tbody>\n</table>\n</div>", 
                        "text/plain": "  Neighbourhood_Formatted  Total_Rate\n0     Mount Pleasant East  226.845357\n1           Markland Wood  337.818494\n2          Yonge-Eglinton  412.358054\n3           Pleasant View  435.878584\n4      Caledonia-Fairbank  438.229039"
                    }, 
                    "output_type": "execute_result"
                }
            ], 
            "source": "# The code was removed by Watson Studio for sharing."
        }, 
        {
            "execution_count": 62, 
            "cell_type": "code", 
            "metadata": {}, 
            "outputs": [], 
            "source": "df_CrimeRate['location'] = df_CrimeRate['Neighbourhood_Formatted'].apply(getLocationByAddress)\n\n# Save the result in a new column\n#df['salary'] = df['SAL-RATE'].apply(money_to_float)"
        }, 
        {
            "execution_count": 81, 
            "cell_type": "code", 
            "metadata": {}, 
            "outputs": [
                {
                    "execution_count": 81, 
                    "metadata": {}, 
                    "data": {
                        "text/html": "<div>\n<style scoped>\n    .dataframe tbody tr th:only-of-type {\n        vertical-align: middle;\n    }\n\n    .dataframe tbody tr th {\n        vertical-align: top;\n    }\n\n    .dataframe thead th {\n        text-align: right;\n    }\n</style>\n<table border=\"1\" class=\"dataframe\">\n  <thead>\n    <tr style=\"text-align: right;\">\n      <th></th>\n      <th>Neighbourhood_Formatted</th>\n      <th>Total_Rate</th>\n      <th>location</th>\n      <th>Latitute</th>\n      <th>Longitude</th>\n    </tr>\n  </thead>\n  <tbody>\n    <tr>\n      <th>0</th>\n      <td>Mount Pleasant East</td>\n      <td>226.845357</td>\n      <td>(Mount Pleasant East, Frederick County, Maryla...</td>\n      <td>39.450935</td>\n      <td>-77.314984</td>\n    </tr>\n    <tr>\n      <th>1</th>\n      <td>Markland Wood</td>\n      <td>337.818494</td>\n      <td>(Ravens Wood, Johnson Fold, Markland Hill, Bol...</td>\n      <td>53.578306</td>\n      <td>-2.479344</td>\n    </tr>\n    <tr>\n      <th>2</th>\n      <td>Yonge-Eglinton</td>\n      <td>412.358054</td>\n      <td>(Yonge &amp; Eglinton, Old Toronto, Toronto, Ontar...</td>\n      <td>43.706748</td>\n      <td>-79.398327</td>\n    </tr>\n    <tr>\n      <th>3</th>\n      <td>Pleasant View</td>\n      <td>435.878584</td>\n      <td>(Pleasant View, North York, Toronto, Ontario, ...</td>\n      <td>43.787048</td>\n      <td>-79.333714</td>\n    </tr>\n    <tr>\n      <th>4</th>\n      <td>Caledonia-Fairbank</td>\n      <td>438.229039</td>\n      <td>(Caledonia Road, Fairbank, York, Toronto, Onta...</td>\n      <td>43.698951</td>\n      <td>-79.463611</td>\n    </tr>\n    <tr>\n      <th>5</th>\n      <td>Tam O'Shanter-Sullivan</td>\n      <td>450.852500</td>\n      <td>None</td>\n      <td>NaN</td>\n      <td>NaN</td>\n    </tr>\n    <tr>\n      <th>6</th>\n      <td>Banbury-Don Mills</td>\n      <td>454.500786</td>\n      <td>(Banbury Road, The Bridle Path, North York, To...</td>\n      <td>43.734804</td>\n      <td>-79.357243</td>\n    </tr>\n    <tr>\n      <th>7</th>\n      <td>High Park-Swansea</td>\n      <td>467.289720</td>\n      <td>(high park, 1, Colborne Lodge Drive, High Park...</td>\n      <td>43.645593</td>\n      <td>-79.465320</td>\n    </tr>\n    <tr>\n      <th>8</th>\n      <td>Leaside-Bennington</td>\n      <td>477.644278</td>\n      <td>None</td>\n      <td>NaN</td>\n      <td>NaN</td>\n    </tr>\n    <tr>\n      <th>9</th>\n      <td>Pelmo Park-Humberlea</td>\n      <td>522.445043</td>\n      <td>(Pelmo Park Public School, 180, Gary Drive, Hu...</td>\n      <td>43.712195</td>\n      <td>-79.517511</td>\n    </tr>\n    <tr>\n      <th>10</th>\n      <td>Guildwood</td>\n      <td>539.010915</td>\n      <td>(Guildwood, 1, Westlake Road, Guildwood Villag...</td>\n      <td>43.754899</td>\n      <td>-79.197776</td>\n    </tr>\n    <tr>\n      <th>11</th>\n      <td>Forest Hill South</td>\n      <td>546.755649</td>\n      <td>(Forest Hill, Universitetsgatan, Mj\u00f6lnartorpet...</td>\n      <td>59.409745</td>\n      <td>13.583393</td>\n    </tr>\n    <tr>\n      <th>12</th>\n      <td>Maple Leaf</td>\n      <td>548.446070</td>\n      <td>(Maple Leaf, North York, Toronto, Ontario, M6L...</td>\n      <td>43.712277</td>\n      <td>-79.490198</td>\n    </tr>\n    <tr>\n      <th>13</th>\n      <td>Oakwood Village</td>\n      <td>557.405784</td>\n      <td>(Oakwood Village, Clark County, Ohio, 45503, U...</td>\n      <td>39.967282</td>\n      <td>-83.778817</td>\n    </tr>\n    <tr>\n      <th>14</th>\n      <td>Casa Loma</td>\n      <td>564.283424</td>\n      <td>(Casa Loma, 1, Austin Terrace, Tarragon Villag...</td>\n      <td>43.678111</td>\n      <td>-79.409408</td>\n    </tr>\n    <tr>\n      <th>15</th>\n      <td>Steeles</td>\n      <td>565.573771</td>\n      <td>(Steeles, Ripley County, Missouri, USA, (36.68...</td>\n      <td>36.680613</td>\n      <td>-90.791510</td>\n    </tr>\n    <tr>\n      <th>16</th>\n      <td>Lawrence Park South</td>\n      <td>574.540667</td>\n      <td>(Lawrence Park, Old Toronto, Toronto, Ontario,...</td>\n      <td>43.729199</td>\n      <td>-79.403252</td>\n    </tr>\n    <tr>\n      <th>17</th>\n      <td>Rouge</td>\n      <td>578.261758</td>\n      <td>(La Rouge, Val-au-Perche, Mortagne-au-Perche, ...</td>\n      <td>48.283710</td>\n      <td>0.705539</td>\n    </tr>\n    <tr>\n      <th>18</th>\n      <td>Centennial Scarborough</td>\n      <td>594.584705</td>\n      <td>(Centennial, Scarborough, Toronto, Ontario, M1...</td>\n      <td>43.787491</td>\n      <td>-79.150768</td>\n    </tr>\n    <tr>\n      <th>19</th>\n      <td>Westminster-Branson</td>\n      <td>596.650133</td>\n      <td>None</td>\n      <td>NaN</td>\n      <td>NaN</td>\n    </tr>\n    <tr>\n      <th>20</th>\n      <td>The Beaches</td>\n      <td>599.055607</td>\n      <td>(The Beaches, Old Toronto, Toronto, Ontario, M...</td>\n      <td>43.671024</td>\n      <td>-79.296712</td>\n    </tr>\n    <tr>\n      <th>21</th>\n      <td>Agincourt North</td>\n      <td>599.467140</td>\n      <td>(Agincourt North, Scarborough, Toronto, Ontari...</td>\n      <td>43.808038</td>\n      <td>-79.266439</td>\n    </tr>\n    <tr>\n      <th>22</th>\n      <td>Runnymede-Bloor West Village</td>\n      <td>622.191497</td>\n      <td>(Runnymede, 1, Bloor Street West, Swansea, Old...</td>\n      <td>43.651778</td>\n      <td>-79.475923</td>\n    </tr>\n    <tr>\n      <th>23</th>\n      <td>Willowdale East</td>\n      <td>625.208549</td>\n      <td>(Willowdale, North York, Toronto, Ontario, M2N...</td>\n      <td>43.769814</td>\n      <td>-79.413810</td>\n    </tr>\n    <tr>\n      <th>24</th>\n      <td>Dufferin Grove</td>\n      <td>661.274134</td>\n      <td>(Dufferin Grove, Old Toronto, Toronto, Ontario...</td>\n      <td>43.653616</td>\n      <td>-79.426389</td>\n    </tr>\n    <tr>\n      <th>25</th>\n      <td>Bayview Village</td>\n      <td>664.032265</td>\n      <td>(Bayview Village, North York, Toronto, Ontario...</td>\n      <td>43.769197</td>\n      <td>-79.376662</td>\n    </tr>\n    <tr>\n      <th>26</th>\n      <td>Humewood-Cedarvale</td>\n      <td>665.228335</td>\n      <td>(Cedarvale Park, Cedarvale, York, Toronto, Ont...</td>\n      <td>43.690798</td>\n      <td>-79.425398</td>\n    </tr>\n    <tr>\n      <th>27</th>\n      <td>Old East York</td>\n      <td>704.013479</td>\n      <td>(East York, Toronto, Ontario, M4J 2G9, Canada,...</td>\n      <td>43.691339</td>\n      <td>-79.327821</td>\n    </tr>\n    <tr>\n      <th>28</th>\n      <td>Clanton Park</td>\n      <td>709.599028</td>\n      <td>(Clanton Park, 1520, Charlotte, Mecklenburg Co...</td>\n      <td>35.207313</td>\n      <td>-80.884841</td>\n    </tr>\n    <tr>\n      <th>29</th>\n      <td>Lawrence Park North</td>\n      <td>729.634381</td>\n      <td>(Lawrence Park, Westchester County, New York, ...</td>\n      <td>40.940376</td>\n      <td>-73.848468</td>\n    </tr>\n    <tr>\n      <th>...</th>\n      <td>...</td>\n      <td>...</td>\n      <td>...</td>\n      <td>...</td>\n      <td>...</td>\n    </tr>\n    <tr>\n      <th>110</th>\n      <td>Woburn</td>\n      <td>1815.994500</td>\n      <td>(Woburn, Middlesex County, Massachusetts, USA,...</td>\n      <td>42.479262</td>\n      <td>-71.152277</td>\n    </tr>\n    <tr>\n      <th>111</th>\n      <td>Thorncliffe Park</td>\n      <td>1843.869732</td>\n      <td>(Thorncliffe Park, East York, Toronto, Ontario...</td>\n      <td>43.704553</td>\n      <td>-79.345407</td>\n    </tr>\n    <tr>\n      <th>112</th>\n      <td>Rexdale-Kipling</td>\n      <td>1865.345380</td>\n      <td>(Rexdale, Etobicoke, Toronto, Ontario, M9W 2R3...</td>\n      <td>43.721362</td>\n      <td>-79.565513</td>\n    </tr>\n    <tr>\n      <th>113</th>\n      <td>Rustic</td>\n      <td>1900.332226</td>\n      <td>(Rustic, Larimer County, Colorado, USA, (40.69...</td>\n      <td>40.698767</td>\n      <td>-105.581716</td>\n    </tr>\n    <tr>\n      <th>114</th>\n      <td>Eringate-Centennial-West Deane</td>\n      <td>1970.239735</td>\n      <td>None</td>\n      <td>NaN</td>\n      <td>NaN</td>\n    </tr>\n    <tr>\n      <th>115</th>\n      <td>New Toronto</td>\n      <td>2001.170275</td>\n      <td>(New Toronto, Etobicoke, Toronto, Ontario, M8V...</td>\n      <td>43.600763</td>\n      <td>-79.505264</td>\n    </tr>\n    <tr>\n      <th>116</th>\n      <td>Etobicoke West Mall</td>\n      <td>2135.966927</td>\n      <td>(The West Mall, Etobicoke, Toronto, Ontario, L...</td>\n      <td>43.619026</td>\n      <td>-79.563606</td>\n    </tr>\n    <tr>\n      <th>117</th>\n      <td>Downsview-Roding-CFB</td>\n      <td>2140.070593</td>\n      <td>None</td>\n      <td>NaN</td>\n      <td>NaN</td>\n    </tr>\n    <tr>\n      <th>118</th>\n      <td>Humber Summit</td>\n      <td>2163.800395</td>\n      <td>(Humber Summit, North York, Toronto, Ontario, ...</td>\n      <td>43.760078</td>\n      <td>-79.571760</td>\n    </tr>\n    <tr>\n      <th>119</th>\n      <td>Highland Creek</td>\n      <td>2172.246358</td>\n      <td>(Highland Creek, Scarborough, Toronto, Ontario...</td>\n      <td>43.790117</td>\n      <td>-79.173334</td>\n    </tr>\n    <tr>\n      <th>120</th>\n      <td>Mount Dennis</td>\n      <td>2174.174174</td>\n      <td>(Mount Dennis, York, Toronto, Ontario, M6M 5C4...</td>\n      <td>43.686960</td>\n      <td>-79.489551</td>\n    </tr>\n    <tr>\n      <th>121</th>\n      <td>North St.James Town</td>\n      <td>2220.084363</td>\n      <td>(St. James Town, Old Toronto, Toronto, Ontario...</td>\n      <td>43.669403</td>\n      <td>-79.372704</td>\n    </tr>\n    <tr>\n      <th>122</th>\n      <td>West Humber-Clairville</td>\n      <td>2247.744053</td>\n      <td>(Clairville, Rolston Road, Hornsea, Rolston, E...</td>\n      <td>53.895042</td>\n      <td>-0.161158</td>\n    </tr>\n    <tr>\n      <th>123</th>\n      <td>Black Creek</td>\n      <td>2360.651934</td>\n      <td>(Black Creek, Town of Cicero, Outagamie County...</td>\n      <td>44.519548</td>\n      <td>-88.379173</td>\n    </tr>\n    <tr>\n      <th>124</th>\n      <td>Roncesvalles</td>\n      <td>2421.200916</td>\n      <td>(Orreaga/Roncesvalles, Navarra - Nafarroa, 316...</td>\n      <td>43.009286</td>\n      <td>-1.319918</td>\n    </tr>\n    <tr>\n      <th>125</th>\n      <td>Annex</td>\n      <td>2471.112650</td>\n      <td>(The Annex, Old Toronto, Toronto, Ontario, M5R...</td>\n      <td>43.670338</td>\n      <td>-79.407117</td>\n    </tr>\n    <tr>\n      <th>126</th>\n      <td>Weston</td>\n      <td>2503.501401</td>\n      <td>(Weston, North Somerset, South West England, E...</td>\n      <td>51.347193</td>\n      <td>-2.977892</td>\n    </tr>\n    <tr>\n      <th>127</th>\n      <td>University</td>\n      <td>2557.977506</td>\n      <td>(University College, Logic Lane, Grandpont, Ox...</td>\n      <td>51.752085</td>\n      <td>-1.251665</td>\n    </tr>\n    <tr>\n      <th>128</th>\n      <td>East End-Danforth</td>\n      <td>2600.076249</td>\n      <td>(The Danforth, 163, Danforth Street, Portland,...</td>\n      <td>43.649738</td>\n      <td>-70.262610</td>\n    </tr>\n    <tr>\n      <th>129</th>\n      <td>Playter Estates-Danforth</td>\n      <td>2715.533612</td>\n      <td>None</td>\n      <td>NaN</td>\n      <td>NaN</td>\n    </tr>\n    <tr>\n      <th>130</th>\n      <td>Humbermede</td>\n      <td>3101.675236</td>\n      <td>None</td>\n      <td>NaN</td>\n      <td>NaN</td>\n    </tr>\n    <tr>\n      <th>131</th>\n      <td>Elms-Old Rexdale</td>\n      <td>3184.532272</td>\n      <td>(Rexdale, Etobicoke, Toronto, Ontario, M9W 2R3...</td>\n      <td>43.721362</td>\n      <td>-79.565513</td>\n    </tr>\n    <tr>\n      <th>132</th>\n      <td>Church-Yonge Corridor</td>\n      <td>3224.745883</td>\n      <td>(LCBO Yonge &amp; Summerhill, 10, Scrivener Square...</td>\n      <td>43.681266</td>\n      <td>-79.390775</td>\n    </tr>\n    <tr>\n      <th>133</th>\n      <td>Moss Park</td>\n      <td>3565.874846</td>\n      <td>(Moss Park, Old Toronto, Toronto, Ontario, M5A...</td>\n      <td>43.654644</td>\n      <td>-79.369728</td>\n    </tr>\n    <tr>\n      <th>134</th>\n      <td>Junction Area</td>\n      <td>3995.793901</td>\n      <td>(Junction area, Grad Umag, Istarska \u017eupanija, ...</td>\n      <td>45.486256</td>\n      <td>13.283991</td>\n    </tr>\n    <tr>\n      <th>135</th>\n      <td>Kensington-Chinatown</td>\n      <td>4562.057398</td>\n      <td>(The Kensington, Boylston Place, Chinatown, Be...</td>\n      <td>42.351777</td>\n      <td>-71.063187</td>\n    </tr>\n    <tr>\n      <th>136</th>\n      <td>Briar Hill-Belgravia</td>\n      <td>4746.281715</td>\n      <td>(Sheridan &amp; Briar NB, North Sheridan Road, Mid...</td>\n      <td>41.938517</td>\n      <td>-87.639393</td>\n    </tr>\n    <tr>\n      <th>137</th>\n      <td>Beechborough-Greenbrook</td>\n      <td>4825.949367</td>\n      <td>None</td>\n      <td>NaN</td>\n      <td>NaN</td>\n    </tr>\n    <tr>\n      <th>138</th>\n      <td>Bay Street Corridor</td>\n      <td>5335.093578</td>\n      <td>(corridor, Bay Street, North Jubilee, Victoria...</td>\n      <td>48.432621</td>\n      <td>-123.327567</td>\n    </tr>\n    <tr>\n      <th>139</th>\n      <td>Eglinton East</td>\n      <td>5899.143673</td>\n      <td>(Eglinton, 2995, Eglinton Avenue East, Eglinto...</td>\n      <td>43.739622</td>\n      <td>-79.232290</td>\n    </tr>\n  </tbody>\n</table>\n<p>140 rows \u00d7 5 columns</p>\n</div>", 
                        "text/plain": "            Neighbourhood_Formatted   Total_Rate  \\\n0               Mount Pleasant East   226.845357   \n1                     Markland Wood   337.818494   \n2                    Yonge-Eglinton   412.358054   \n3                     Pleasant View   435.878584   \n4                Caledonia-Fairbank   438.229039   \n5            Tam O'Shanter-Sullivan   450.852500   \n6                 Banbury-Don Mills   454.500786   \n7                 High Park-Swansea   467.289720   \n8                Leaside-Bennington   477.644278   \n9              Pelmo Park-Humberlea   522.445043   \n10                        Guildwood   539.010915   \n11                Forest Hill South   546.755649   \n12                       Maple Leaf   548.446070   \n13                  Oakwood Village   557.405784   \n14                        Casa Loma   564.283424   \n15                          Steeles   565.573771   \n16              Lawrence Park South   574.540667   \n17                            Rouge   578.261758   \n18           Centennial Scarborough   594.584705   \n19              Westminster-Branson   596.650133   \n20                      The Beaches   599.055607   \n21                  Agincourt North   599.467140   \n22     Runnymede-Bloor West Village   622.191497   \n23                  Willowdale East   625.208549   \n24                   Dufferin Grove   661.274134   \n25                  Bayview Village   664.032265   \n26               Humewood-Cedarvale   665.228335   \n27                    Old East York   704.013479   \n28                     Clanton Park   709.599028   \n29              Lawrence Park North   729.634381   \n..                              ...          ...   \n110                          Woburn  1815.994500   \n111                Thorncliffe Park  1843.869732   \n112                 Rexdale-Kipling  1865.345380   \n113                          Rustic  1900.332226   \n114  Eringate-Centennial-West Deane  1970.239735   \n115                     New Toronto  2001.170275   \n116             Etobicoke West Mall  2135.966927   \n117            Downsview-Roding-CFB  2140.070593   \n118                   Humber Summit  2163.800395   \n119                  Highland Creek  2172.246358   \n120                    Mount Dennis  2174.174174   \n121             North St.James Town  2220.084363   \n122          West Humber-Clairville  2247.744053   \n123                     Black Creek  2360.651934   \n124                    Roncesvalles  2421.200916   \n125                           Annex  2471.112650   \n126                          Weston  2503.501401   \n127                      University  2557.977506   \n128               East End-Danforth  2600.076249   \n129        Playter Estates-Danforth  2715.533612   \n130                      Humbermede  3101.675236   \n131                Elms-Old Rexdale  3184.532272   \n132           Church-Yonge Corridor  3224.745883   \n133                       Moss Park  3565.874846   \n134                   Junction Area  3995.793901   \n135            Kensington-Chinatown  4562.057398   \n136            Briar Hill-Belgravia  4746.281715   \n137         Beechborough-Greenbrook  4825.949367   \n138             Bay Street Corridor  5335.093578   \n139                   Eglinton East  5899.143673   \n\n                                              location   Latitute   Longitude  \n0    (Mount Pleasant East, Frederick County, Maryla...  39.450935  -77.314984  \n1    (Ravens Wood, Johnson Fold, Markland Hill, Bol...  53.578306   -2.479344  \n2    (Yonge & Eglinton, Old Toronto, Toronto, Ontar...  43.706748  -79.398327  \n3    (Pleasant View, North York, Toronto, Ontario, ...  43.787048  -79.333714  \n4    (Caledonia Road, Fairbank, York, Toronto, Onta...  43.698951  -79.463611  \n5                                                 None        NaN         NaN  \n6    (Banbury Road, The Bridle Path, North York, To...  43.734804  -79.357243  \n7    (high park, 1, Colborne Lodge Drive, High Park...  43.645593  -79.465320  \n8                                                 None        NaN         NaN  \n9    (Pelmo Park Public School, 180, Gary Drive, Hu...  43.712195  -79.517511  \n10   (Guildwood, 1, Westlake Road, Guildwood Villag...  43.754899  -79.197776  \n11   (Forest Hill, Universitetsgatan, Mj\u00f6lnartorpet...  59.409745   13.583393  \n12   (Maple Leaf, North York, Toronto, Ontario, M6L...  43.712277  -79.490198  \n13   (Oakwood Village, Clark County, Ohio, 45503, U...  39.967282  -83.778817  \n14   (Casa Loma, 1, Austin Terrace, Tarragon Villag...  43.678111  -79.409408  \n15   (Steeles, Ripley County, Missouri, USA, (36.68...  36.680613  -90.791510  \n16   (Lawrence Park, Old Toronto, Toronto, Ontario,...  43.729199  -79.403252  \n17   (La Rouge, Val-au-Perche, Mortagne-au-Perche, ...  48.283710    0.705539  \n18   (Centennial, Scarborough, Toronto, Ontario, M1...  43.787491  -79.150768  \n19                                                None        NaN         NaN  \n20   (The Beaches, Old Toronto, Toronto, Ontario, M...  43.671024  -79.296712  \n21   (Agincourt North, Scarborough, Toronto, Ontari...  43.808038  -79.266439  \n22   (Runnymede, 1, Bloor Street West, Swansea, Old...  43.651778  -79.475923  \n23   (Willowdale, North York, Toronto, Ontario, M2N...  43.769814  -79.413810  \n24   (Dufferin Grove, Old Toronto, Toronto, Ontario...  43.653616  -79.426389  \n25   (Bayview Village, North York, Toronto, Ontario...  43.769197  -79.376662  \n26   (Cedarvale Park, Cedarvale, York, Toronto, Ont...  43.690798  -79.425398  \n27   (East York, Toronto, Ontario, M4J 2G9, Canada,...  43.691339  -79.327821  \n28   (Clanton Park, 1520, Charlotte, Mecklenburg Co...  35.207313  -80.884841  \n29   (Lawrence Park, Westchester County, New York, ...  40.940376  -73.848468  \n..                                                 ...        ...         ...  \n110  (Woburn, Middlesex County, Massachusetts, USA,...  42.479262  -71.152277  \n111  (Thorncliffe Park, East York, Toronto, Ontario...  43.704553  -79.345407  \n112  (Rexdale, Etobicoke, Toronto, Ontario, M9W 2R3...  43.721362  -79.565513  \n113  (Rustic, Larimer County, Colorado, USA, (40.69...  40.698767 -105.581716  \n114                                               None        NaN         NaN  \n115  (New Toronto, Etobicoke, Toronto, Ontario, M8V...  43.600763  -79.505264  \n116  (The West Mall, Etobicoke, Toronto, Ontario, L...  43.619026  -79.563606  \n117                                               None        NaN         NaN  \n118  (Humber Summit, North York, Toronto, Ontario, ...  43.760078  -79.571760  \n119  (Highland Creek, Scarborough, Toronto, Ontario...  43.790117  -79.173334  \n120  (Mount Dennis, York, Toronto, Ontario, M6M 5C4...  43.686960  -79.489551  \n121  (St. James Town, Old Toronto, Toronto, Ontario...  43.669403  -79.372704  \n122  (Clairville, Rolston Road, Hornsea, Rolston, E...  53.895042   -0.161158  \n123  (Black Creek, Town of Cicero, Outagamie County...  44.519548  -88.379173  \n124  (Orreaga/Roncesvalles, Navarra - Nafarroa, 316...  43.009286   -1.319918  \n125  (The Annex, Old Toronto, Toronto, Ontario, M5R...  43.670338  -79.407117  \n126  (Weston, North Somerset, South West England, E...  51.347193   -2.977892  \n127  (University College, Logic Lane, Grandpont, Ox...  51.752085   -1.251665  \n128  (The Danforth, 163, Danforth Street, Portland,...  43.649738  -70.262610  \n129                                               None        NaN         NaN  \n130                                               None        NaN         NaN  \n131  (Rexdale, Etobicoke, Toronto, Ontario, M9W 2R3...  43.721362  -79.565513  \n132  (LCBO Yonge & Summerhill, 10, Scrivener Square...  43.681266  -79.390775  \n133  (Moss Park, Old Toronto, Toronto, Ontario, M5A...  43.654644  -79.369728  \n134  (Junction area, Grad Umag, Istarska \u017eupanija, ...  45.486256   13.283991  \n135  (The Kensington, Boylston Place, Chinatown, Be...  42.351777  -71.063187  \n136  (Sheridan & Briar NB, North Sheridan Road, Mid...  41.938517  -87.639393  \n137                                               None        NaN         NaN  \n138  (corridor, Bay Street, North Jubilee, Victoria...  48.432621 -123.327567  \n139  (Eglinton, 2995, Eglinton Avenue East, Eglinto...  43.739622  -79.232290  \n\n[140 rows x 5 columns]"
                    }, 
                    "output_type": "execute_result"
                }
            ], 
            "source": "df_CrimeRate['Latitute'] = df_CrimeRate['location'].apply(getLatituteByLocation)\ndf_CrimeRate['Longitude'] = df_CrimeRate['location'].apply(getLongitudeByLocation)\ndf_CrimeRate"
        }, 
        {
            "execution_count": 83, 
            "cell_type": "code", 
            "metadata": {}, 
            "outputs": [], 
            "source": "df_CrimeRate.to_csv('df_CrimeRate.csv', sep='\\t', encoding='utf-8')"
        }, 
        {
            "execution_count": 84, 
            "cell_type": "code", 
            "metadata": {
                "scrolled": true
            }, 
            "outputs": [
                {
                    "execution_count": 84, 
                    "metadata": {}, 
                    "data": {
                        "text/html": "<div>\n<style scoped>\n    .dataframe tbody tr th:only-of-type {\n        vertical-align: middle;\n    }\n\n    .dataframe tbody tr th {\n        vertical-align: top;\n    }\n\n    .dataframe thead th {\n        text-align: right;\n    }\n</style>\n<table border=\"1\" class=\"dataframe\">\n  <thead>\n    <tr style=\"text-align: right;\">\n      <th></th>\n      <th>Neighbourhood_Formatted</th>\n      <th>Total_Rate</th>\n      <th>location</th>\n      <th>Latitute</th>\n      <th>Longitude</th>\n    </tr>\n  </thead>\n  <tbody>\n    <tr>\n      <th>5</th>\n      <td>Tam O'Shanter-Sullivan</td>\n      <td>450.852500</td>\n      <td>None</td>\n      <td>NaN</td>\n      <td>NaN</td>\n    </tr>\n    <tr>\n      <th>8</th>\n      <td>Leaside-Bennington</td>\n      <td>477.644278</td>\n      <td>None</td>\n      <td>NaN</td>\n      <td>NaN</td>\n    </tr>\n    <tr>\n      <th>19</th>\n      <td>Westminster-Branson</td>\n      <td>596.650133</td>\n      <td>None</td>\n      <td>NaN</td>\n      <td>NaN</td>\n    </tr>\n    <tr>\n      <th>33</th>\n      <td>Thistletown-Beaumond Heights</td>\n      <td>748.176320</td>\n      <td>None</td>\n      <td>NaN</td>\n      <td>NaN</td>\n    </tr>\n    <tr>\n      <th>34</th>\n      <td>Rockcliffe-Smythe</td>\n      <td>754.408289</td>\n      <td>None</td>\n      <td>NaN</td>\n      <td>NaN</td>\n    </tr>\n    <tr>\n      <th>37</th>\n      <td>Willowridge-Martingrove-Richview</td>\n      <td>793.621901</td>\n      <td>None</td>\n      <td>NaN</td>\n      <td>NaN</td>\n    </tr>\n    <tr>\n      <th>38</th>\n      <td>Weston-Pellam Park</td>\n      <td>795.939555</td>\n      <td>None</td>\n      <td>NaN</td>\n      <td>NaN</td>\n    </tr>\n    <tr>\n      <th>39</th>\n      <td>Bridle Path-Sunnybrook-York Mills</td>\n      <td>825.351539</td>\n      <td>None</td>\n      <td>NaN</td>\n      <td>NaN</td>\n    </tr>\n    <tr>\n      <th>43</th>\n      <td>Cabbagetown-South St.James Town</td>\n      <td>840.240718</td>\n      <td>None</td>\n      <td>NaN</td>\n      <td>NaN</td>\n    </tr>\n    <tr>\n      <th>48</th>\n      <td>Brookhaven-Amesbury</td>\n      <td>871.598639</td>\n      <td>None</td>\n      <td>NaN</td>\n      <td>NaN</td>\n    </tr>\n    <tr>\n      <th>50</th>\n      <td>Islington-City Centre West</td>\n      <td>883.582300</td>\n      <td>None</td>\n      <td>NaN</td>\n      <td>NaN</td>\n    </tr>\n    <tr>\n      <th>53</th>\n      <td>Agincourt South-Malvern West</td>\n      <td>915.170714</td>\n      <td>None</td>\n      <td>NaN</td>\n      <td>NaN</td>\n    </tr>\n    <tr>\n      <th>56</th>\n      <td>Parkwoods-Donalda</td>\n      <td>936.161737</td>\n      <td>None</td>\n      <td>NaN</td>\n      <td>NaN</td>\n    </tr>\n    <tr>\n      <th>58</th>\n      <td>St.Andrew-Windfields</td>\n      <td>954.578831</td>\n      <td>None</td>\n      <td>NaN</td>\n      <td>NaN</td>\n    </tr>\n    <tr>\n      <th>62</th>\n      <td>Wexford/Maryvale</td>\n      <td>989.928553</td>\n      <td>None</td>\n      <td>NaN</td>\n      <td>NaN</td>\n    </tr>\n    <tr>\n      <th>70</th>\n      <td>Birchcliffe-Cliffside</td>\n      <td>1052.389000</td>\n      <td>None</td>\n      <td>NaN</td>\n      <td>NaN</td>\n    </tr>\n    <tr>\n      <th>78</th>\n      <td>Greenwood-Coxwell</td>\n      <td>1213.098661</td>\n      <td>None</td>\n      <td>NaN</td>\n      <td>NaN</td>\n    </tr>\n    <tr>\n      <th>80</th>\n      <td>Clairlea-Birchmount</td>\n      <td>1269.028229</td>\n      <td>None</td>\n      <td>NaN</td>\n      <td>NaN</td>\n    </tr>\n    <tr>\n      <th>85</th>\n      <td>Mount Olive-Silverstone-Jamestown</td>\n      <td>1361.844463</td>\n      <td>None</td>\n      <td>NaN</td>\n      <td>NaN</td>\n    </tr>\n    <tr>\n      <th>102</th>\n      <td>Bedford Park-Nortown</td>\n      <td>1688.428636</td>\n      <td>None</td>\n      <td>NaN</td>\n      <td>NaN</td>\n    </tr>\n    <tr>\n      <th>109</th>\n      <td>Dovercourt-Wallace Emerson-Junction</td>\n      <td>1808.163899</td>\n      <td>None</td>\n      <td>NaN</td>\n      <td>NaN</td>\n    </tr>\n    <tr>\n      <th>114</th>\n      <td>Eringate-Centennial-West Deane</td>\n      <td>1970.239735</td>\n      <td>None</td>\n      <td>NaN</td>\n      <td>NaN</td>\n    </tr>\n    <tr>\n      <th>117</th>\n      <td>Downsview-Roding-CFB</td>\n      <td>2140.070593</td>\n      <td>None</td>\n      <td>NaN</td>\n      <td>NaN</td>\n    </tr>\n    <tr>\n      <th>129</th>\n      <td>Playter Estates-Danforth</td>\n      <td>2715.533612</td>\n      <td>None</td>\n      <td>NaN</td>\n      <td>NaN</td>\n    </tr>\n    <tr>\n      <th>130</th>\n      <td>Humbermede</td>\n      <td>3101.675236</td>\n      <td>None</td>\n      <td>NaN</td>\n      <td>NaN</td>\n    </tr>\n    <tr>\n      <th>137</th>\n      <td>Beechborough-Greenbrook</td>\n      <td>4825.949367</td>\n      <td>None</td>\n      <td>NaN</td>\n      <td>NaN</td>\n    </tr>\n  </tbody>\n</table>\n</div>", 
                        "text/plain": "                 Neighbourhood_Formatted   Total_Rate location  Latitute  \\\n5                 Tam O'Shanter-Sullivan   450.852500     None       NaN   \n8                     Leaside-Bennington   477.644278     None       NaN   \n19                   Westminster-Branson   596.650133     None       NaN   \n33          Thistletown-Beaumond Heights   748.176320     None       NaN   \n34                     Rockcliffe-Smythe   754.408289     None       NaN   \n37      Willowridge-Martingrove-Richview   793.621901     None       NaN   \n38                    Weston-Pellam Park   795.939555     None       NaN   \n39     Bridle Path-Sunnybrook-York Mills   825.351539     None       NaN   \n43       Cabbagetown-South St.James Town   840.240718     None       NaN   \n48                   Brookhaven-Amesbury   871.598639     None       NaN   \n50            Islington-City Centre West   883.582300     None       NaN   \n53          Agincourt South-Malvern West   915.170714     None       NaN   \n56                     Parkwoods-Donalda   936.161737     None       NaN   \n58                  St.Andrew-Windfields   954.578831     None       NaN   \n62                      Wexford/Maryvale   989.928553     None       NaN   \n70                 Birchcliffe-Cliffside  1052.389000     None       NaN   \n78                     Greenwood-Coxwell  1213.098661     None       NaN   \n80                   Clairlea-Birchmount  1269.028229     None       NaN   \n85     Mount Olive-Silverstone-Jamestown  1361.844463     None       NaN   \n102                 Bedford Park-Nortown  1688.428636     None       NaN   \n109  Dovercourt-Wallace Emerson-Junction  1808.163899     None       NaN   \n114       Eringate-Centennial-West Deane  1970.239735     None       NaN   \n117                 Downsview-Roding-CFB  2140.070593     None       NaN   \n129             Playter Estates-Danforth  2715.533612     None       NaN   \n130                           Humbermede  3101.675236     None       NaN   \n137              Beechborough-Greenbrook  4825.949367     None       NaN   \n\n     Longitude  \n5          NaN  \n8          NaN  \n19         NaN  \n33         NaN  \n34         NaN  \n37         NaN  \n38         NaN  \n39         NaN  \n43         NaN  \n48         NaN  \n50         NaN  \n53         NaN  \n56         NaN  \n58         NaN  \n62         NaN  \n70         NaN  \n78         NaN  \n80         NaN  \n85         NaN  \n102        NaN  \n109        NaN  \n114        NaN  \n117        NaN  \n129        NaN  \n130        NaN  \n137        NaN  "
                    }, 
                    "output_type": "execute_result"
                }
            ], 
            "source": "df_CrimeRate[df_CrimeRate['location'].isnull()]"
        }, 
        {
            "execution_count": null, 
            "cell_type": "code", 
            "metadata": {}, 
            "outputs": [], 
            "source": ""
        }
    ], 
    "metadata": {
        "kernelspec": {
            "display_name": "Python 3.5", 
            "name": "python3", 
            "language": "python"
        }, 
        "language_info": {
            "mimetype": "text/x-python", 
            "nbconvert_exporter": "python", 
            "version": "3.5.5", 
            "name": "python", 
            "file_extension": ".py", 
            "pygments_lexer": "ipython3", 
            "codemirror_mode": {
                "version": 3, 
                "name": "ipython"
            }
        }
    }, 
    "nbformat": 4
}