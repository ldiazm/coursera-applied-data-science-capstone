{
    "nbformat_minor": 1, 
    "cells": [
        {
            "source": "### How to fill missing value based on other columns in Pandas dataframe?", 
            "cell_type": "markdown", 
            "metadata": {
                "collapsed": true
            }
        }, 
        {
            "execution_count": 1, 
            "cell_type": "code", 
            "metadata": {}, 
            "outputs": [
                {
                    "execution_count": 1, 
                    "metadata": {}, 
                    "data": {
                        "text/html": "<div>\n<style scoped>\n    .dataframe tbody tr th:only-of-type {\n        vertical-align: middle;\n    }\n\n    .dataframe tbody tr th {\n        vertical-align: top;\n    }\n\n    .dataframe thead th {\n        text-align: right;\n    }\n</style>\n<table border=\"1\" class=\"dataframe\">\n  <thead>\n    <tr style=\"text-align: right;\">\n      <th></th>\n      <th>a</th>\n      <th>b</th>\n      <th>c</th>\n    </tr>\n  </thead>\n  <tbody>\n    <tr>\n      <th>0</th>\n      <td>1.0</td>\n      <td>2.0</td>\n      <td>3.0</td>\n    </tr>\n    <tr>\n      <th>1</th>\n      <td>4.0</td>\n      <td>5.0</td>\n      <td>NaN</td>\n    </tr>\n    <tr>\n      <th>2</th>\n      <td>7.0</td>\n      <td>8.0</td>\n      <td>9.0</td>\n    </tr>\n    <tr>\n      <th>3</th>\n      <td>3.0</td>\n      <td>2.0</td>\n      <td>NaN</td>\n    </tr>\n    <tr>\n      <th>4</th>\n      <td>5.0</td>\n      <td>6.0</td>\n      <td>NaN</td>\n    </tr>\n  </tbody>\n</table>\n</div>", 
                        "text/plain": "     a    b    c\n0  1.0  2.0  3.0\n1  4.0  5.0  NaN\n2  7.0  8.0  9.0\n3  3.0  2.0  NaN\n4  5.0  6.0  NaN"
                    }, 
                    "output_type": "execute_result"
                }
            ], 
            "source": "import pandas as pd\nimport numpy as np\ndf = pd.DataFrame(\n    np.array([[1, 2, 3], [4, 5, np.nan], [7, 8, 9], [3, 2, np.nan], [5, 6, np.nan]]), \n    columns=['a', 'b', 'c']\n)\ndf"
        }, 
        {
            "execution_count": 2, 
            "cell_type": "code", 
            "metadata": {}, 
            "outputs": [
                {
                    "execution_count": 2, 
                    "metadata": {}, 
                    "data": {
                        "text/plain": "0     3.0\n1    20.0\n2     9.0\n3     6.0\n4    30.0\ndtype: float64"
                    }, 
                    "output_type": "execute_result"
                }
            ], 
            "source": "df.apply(\n    lambda row: row['a']*row['b'] if np.isnan(row['c']) else row['c'],\n    axis=1\n) # axis=1 for going over row by row"
        }, 
        {
            "execution_count": 3, 
            "cell_type": "code", 
            "metadata": {}, 
            "outputs": [
                {
                    "execution_count": 3, 
                    "metadata": {}, 
                    "data": {
                        "text/html": "<div>\n<style scoped>\n    .dataframe tbody tr th:only-of-type {\n        vertical-align: middle;\n    }\n\n    .dataframe tbody tr th {\n        vertical-align: top;\n    }\n\n    .dataframe thead th {\n        text-align: right;\n    }\n</style>\n<table border=\"1\" class=\"dataframe\">\n  <thead>\n    <tr style=\"text-align: right;\">\n      <th></th>\n      <th>a</th>\n      <th>b</th>\n      <th>c</th>\n    </tr>\n  </thead>\n  <tbody>\n    <tr>\n      <th>0</th>\n      <td>1.0</td>\n      <td>2.0</td>\n      <td>3.0</td>\n    </tr>\n    <tr>\n      <th>1</th>\n      <td>4.0</td>\n      <td>5.0</td>\n      <td>20.0</td>\n    </tr>\n    <tr>\n      <th>2</th>\n      <td>7.0</td>\n      <td>8.0</td>\n      <td>9.0</td>\n    </tr>\n    <tr>\n      <th>3</th>\n      <td>3.0</td>\n      <td>2.0</td>\n      <td>6.0</td>\n    </tr>\n    <tr>\n      <th>4</th>\n      <td>5.0</td>\n      <td>6.0</td>\n      <td>30.0</td>\n    </tr>\n  </tbody>\n</table>\n</div>", 
                        "text/plain": "     a    b     c\n0  1.0  2.0   3.0\n1  4.0  5.0  20.0\n2  7.0  8.0   9.0\n3  3.0  2.0   6.0\n4  5.0  6.0  30.0"
                    }, 
                    "output_type": "execute_result"
                }
            ], 
            "source": "df['c'] = df.apply(\n    lambda row: row['a']*row['b'] if np.isnan(row['c']) else row['c'],\n    axis=1\n)\ndf"
        }, 
        {
            "source": "### Change one value based on another value in pandas", 
            "cell_type": "markdown", 
            "metadata": {}
        }, 
        {
            "execution_count": 8, 
            "cell_type": "code", 
            "metadata": {}, 
            "outputs": [
                {
                    "execution_count": 8, 
                    "metadata": {}, 
                    "data": {
                        "text/html": "<div>\n<style scoped>\n    .dataframe tbody tr th:only-of-type {\n        vertical-align: middle;\n    }\n\n    .dataframe tbody tr th {\n        vertical-align: top;\n    }\n\n    .dataframe thead th {\n        text-align: right;\n    }\n</style>\n<table border=\"1\" class=\"dataframe\">\n  <thead>\n    <tr style=\"text-align: right;\">\n      <th></th>\n      <th>ID</th>\n      <th>First_Name</th>\n      <th>Last_Name</th>\n    </tr>\n  </thead>\n  <tbody>\n    <tr>\n      <th>0</th>\n      <td>103</td>\n      <td>a</td>\n      <td>b</td>\n    </tr>\n    <tr>\n      <th>1</th>\n      <td>104</td>\n      <td>c</td>\n      <td>d</td>\n    </tr>\n    <tr>\n      <th>2</th>\n      <td>105</td>\n      <td>zz</td>\n      <td>aa</td>\n    </tr>\n  </tbody>\n</table>\n</div>", 
                        "text/plain": "    ID First_Name Last_Name\n0  103          a         b\n1  104          c         d\n2  105         zz        aa"
                    }, 
                    "output_type": "execute_result"
                }
            ], 
            "source": "df2 = pd.DataFrame(\n    [\n        [103, 'a', 'b'], \n        [104, 'c', 'd'],\n        [105, 'zz', 'aa'],\n    ], \n    columns=['ID', 'First_Name', 'Last_Name']\n)\ndf2\n#    ID First_Name Last_Name\n#0  103          a         b\n#1  104          c         d"
        }, 
        {
            "execution_count": 9, 
            "cell_type": "code", 
            "metadata": {}, 
            "outputs": [
                {
                    "execution_count": 9, 
                    "metadata": {}, 
                    "data": {
                        "text/plain": "{103: 'Jones', 104: 'X'}"
                    }, 
                    "output_type": "execute_result"
                }
            ], 
            "source": "# Create the dicts:\nfnames = {103: \"Matt\", 104: \"Mr\"}\nlnames = {103: \"Jones\", 104: \"X\"}\nfnames\nlnames"
        }, 
        {
            "execution_count": 10, 
            "cell_type": "code", 
            "metadata": {}, 
            "outputs": [
                {
                    "execution_count": 10, 
                    "metadata": {}, 
                    "data": {
                        "text/html": "<div>\n<style scoped>\n    .dataframe tbody tr th:only-of-type {\n        vertical-align: middle;\n    }\n\n    .dataframe tbody tr th {\n        vertical-align: top;\n    }\n\n    .dataframe thead th {\n        text-align: right;\n    }\n</style>\n<table border=\"1\" class=\"dataframe\">\n  <thead>\n    <tr style=\"text-align: right;\">\n      <th></th>\n      <th>ID</th>\n      <th>First_Name</th>\n      <th>Last_Name</th>\n    </tr>\n  </thead>\n  <tbody>\n    <tr>\n      <th>0</th>\n      <td>103</td>\n      <td>Matt</td>\n      <td>Jones</td>\n    </tr>\n    <tr>\n      <th>1</th>\n      <td>104</td>\n      <td>Mr</td>\n      <td>X</td>\n    </tr>\n    <tr>\n      <th>2</th>\n      <td>105</td>\n      <td>NaN</td>\n      <td>NaN</td>\n    </tr>\n  </tbody>\n</table>\n</div>", 
                        "text/plain": "    ID First_Name Last_Name\n0  103       Matt     Jones\n1  104         Mr         X\n2  105        NaN       NaN"
                    }, 
                    "output_type": "execute_result"
                }
            ], 
            "source": "#And map:\ndf2['First_Name'] = df2['ID'].map(fnames)\ndf2['Last_Name'] = df2['ID'].map(lnames)\ndf2"
        }, 
        {
            "execution_count": 14, 
            "cell_type": "code", 
            "metadata": {}, 
            "outputs": [
                {
                    "execution_count": 14, 
                    "metadata": {}, 
                    "data": {
                        "text/plain": "{103: ('Matt2', 'Jones2'), 104: ('Mr2', 'X2'), 105: ('AA2', 'BB2')}"
                    }, 
                    "output_type": "execute_result"
                }
            ], 
            "source": "# Or use a custom function:\nnames = {\n    103: (\"Matt2\", \"Jones2\"), \n    104: (\"Mr2\", \"X2\"),\n    105: (\"AA2\", \"BB2\")\n}\nnames"
        }, 
        {
            "execution_count": 15, 
            "cell_type": "code", 
            "metadata": {}, 
            "outputs": [
                {
                    "execution_count": 15, 
                    "metadata": {}, 
                    "data": {
                        "text/html": "<div>\n<style scoped>\n    .dataframe tbody tr th:only-of-type {\n        vertical-align: middle;\n    }\n\n    .dataframe tbody tr th {\n        vertical-align: top;\n    }\n\n    .dataframe thead th {\n        text-align: right;\n    }\n</style>\n<table border=\"1\" class=\"dataframe\">\n  <thead>\n    <tr style=\"text-align: right;\">\n      <th></th>\n      <th>ID</th>\n      <th>First_Name</th>\n      <th>Last_Name</th>\n    </tr>\n  </thead>\n  <tbody>\n    <tr>\n      <th>0</th>\n      <td>103</td>\n      <td>Matt2</td>\n      <td>Jones</td>\n    </tr>\n    <tr>\n      <th>1</th>\n      <td>104</td>\n      <td>Mr2</td>\n      <td>X</td>\n    </tr>\n    <tr>\n      <th>2</th>\n      <td>105</td>\n      <td>AA2</td>\n      <td>NaN</td>\n    </tr>\n  </tbody>\n</table>\n</div>", 
                        "text/plain": "    ID First_Name Last_Name\n0  103      Matt2     Jones\n1  104        Mr2         X\n2  105        AA2       NaN"
                    }, 
                    "output_type": "execute_result"
                }
            ], 
            "source": "df2['First_Name'] = df2['ID'].map(lambda x: names[x][0])\ndf2"
        }, 
        {
            "source": "### Combine two pandas Data Frames (join on a common column)", 
            "cell_type": "markdown", 
            "metadata": {}
        }, 
        {
            "source": "## Sort  a list", 
            "cell_type": "markdown", 
            "metadata": {}
        }, 
        {
            "execution_count": null, 
            "cell_type": "code", 
            "metadata": {}, 
            "outputs": [], 
            "source": "from operator import itemgetter\ndata = [('abc', 121),('aac', 231),('abca', 148), ('aaa',999), ('zzz',111)]\ndata2=sorted(data,key=itemgetter(1),reverse=False)\n\ndata2[0][0]"
        }, 
        {
            "source": "## Distance between 2 locations (latitude,longitude)", 
            "cell_type": "markdown", 
            "metadata": {}
        }, 
        {
            "execution_count": 1, 
            "cell_type": "code", 
            "metadata": {}, 
            "outputs": [
                {
                    "execution_count": 1, 
                    "metadata": {}, 
                    "data": {
                        "text/plain": "279.35290160386563"
                    }, 
                    "output_type": "execute_result"
                }
            ], 
            "source": "# Distance\nimport geopy.distance\n\ncoords_1 = (52.2296756, 21.0122287)\ncoords_2 = (52.406374, 16.9251681)\n\ngeopy.distance.vincenty(coords_1, coords_2).km # 279 Km"
        }, 
        {
            "execution_count": null, 
            "cell_type": "code", 
            "metadata": {}, 
            "outputs": [], 
            "source": ""
        }
    ], 
    "metadata": {
        "kernelspec": {
            "display_name": "Python 3.5", 
            "name": "python3", 
            "language": "python"
        }, 
        "language_info": {
            "mimetype": "text/x-python", 
            "nbconvert_exporter": "python", 
            "version": "3.5.5", 
            "name": "python", 
            "file_extension": ".py", 
            "pygments_lexer": "ipython3", 
            "codemirror_mode": {
                "version": 3, 
                "name": "ipython"
            }
        }
    }, 
    "nbformat": 4
}