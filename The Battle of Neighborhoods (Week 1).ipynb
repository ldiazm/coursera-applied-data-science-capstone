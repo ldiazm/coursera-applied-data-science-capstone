{
    "nbformat_minor": 1, 
    "cells": [
        {
            "source": "# Battle of the Neighborhoods ( Toronto )", 
            "cell_type": "markdown", 
            "metadata": {
                "collapsed": true
            }
        }, 
        {
            "source": "## Business problem statement:\nSince Canada has become on the spotlight of young professionals during the last years because of the benefits offered to skilled professionals, my wife and I decided to explore the idea of moving to Toronto looking for quitter life and eventually establish a family, so far we are in the process of paperwork and being optimistic we should be travelling in a couple of months.\n\nHowever the consequences of a big decision like this involves many aspects to cover, so, with the help of this course, I am going to tackle a problem that come to my mind recently: \nHow do we choose the best neighborhood to initially move?\n\nGiven that we do not have previous knowledge of the City, by \u201cinitially\u201d I mean that our plan is to rent a place for a couple of months, then eventually move to an area near to our jobs and study centers.\n\nIn order to narrow the scope, the neighborhood should meet the following requirements: \n* Easy access to public transportation\n* Lot of restaurants, since we are not keen on cooking\n* Low Crime rates \n* Affordable Rent Prices \n* Things to do in the cornerstones\n* Some night life should be welcome\n\n", 
            "cell_type": "markdown", 
            "metadata": {
                "collapsed": true
            }
        }, 
        {
            "source": "## Required data", 
            "cell_type": "markdown", 
            "metadata": {
                "collapsed": true
            }
        }, 
        {
            "source": "1.\tNeighborhoods in Toronto - https://en.wikipedia.org/wiki/List_of_postal_codes_of_Canada:_M\n2.\tFoursquare data\n3.\tNeighborhoods Crime data in Toronto - http://data.torontopolice.on.ca/datasets/af500b5abb7240399853b35a2362d0c0_0?geometry=-79.812%2C43.632%2C-78.944%2C43.805&selectedAttribute=Total_Rate \n4.\tAirBnb Prices prices - http://insideairbnb.com/get-the-data.html \n", 
            "cell_type": "markdown", 
            "metadata": {
                "collapsed": true
            }
        }, 
        {
            "source": "## Machine Learning approach", 
            "cell_type": "markdown", 
            "metadata": {
                "collapsed": true
            }
        }, 
        {
            "source": "Overall, I will use the data available in the sources to perform a clustering based analysis to find the group that better meet the initial requirements.\n\nIt is expected to find one or more clusters with neighborhoods with crime rates under the average, rent prices around the average, with lots of restaurants and with bus/train stations.\n\nFinally, once plotted in a map, it should be easier to decide which cluster is near to the university we are going to study.\n", 
            "cell_type": "markdown", 
            "metadata": {
                "collapsed": true
            }
        }, 
        {
            "source": "## Results", 
            "cell_type": "markdown", 
            "metadata": {
                "collapsed": true
            }
        }, 
        {
            "source": "## Summary and Conclusions", 
            "cell_type": "markdown", 
            "metadata": {
                "collapsed": true
            }
        }, 
        {
            "execution_count": null, 
            "cell_type": "code", 
            "metadata": {}, 
            "outputs": [], 
            "source": ""
        }
    ], 
    "metadata": {
        "kernelspec": {
            "display_name": "Python 3.5", 
            "name": "python3", 
            "language": "python"
        }, 
        "language_info": {
            "mimetype": "text/x-python", 
            "nbconvert_exporter": "python", 
            "version": "3.5.5", 
            "name": "python", 
            "file_extension": ".py", 
            "pygments_lexer": "ipython3", 
            "codemirror_mode": {
                "version": 3, 
                "name": "ipython"
            }
        }
    }, 
    "nbformat": 4
}